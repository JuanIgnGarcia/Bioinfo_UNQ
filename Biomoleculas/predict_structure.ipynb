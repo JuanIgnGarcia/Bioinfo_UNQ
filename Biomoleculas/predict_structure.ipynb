{
  "cells": [
    {
      "cell_type": "code",
      "source": [
        "prop_helix = [\"A\",\"M\",\"L\",\"E\",\"K\",\"Q\",\"H\",\"R\"]   # form helix\n",
        "prop_beta  = [\"V\",\"I\",\"Y\",\"F\",\"W\",\"T\",\"C\"] # form  beta\n",
        "\n",
        "def predict_structure(sequence):\n",
        "    sequence = sequence.upper() # uppercase\n",
        "    predict = []\n",
        "\n",
        "    for s in sequence:\n",
        "        match s:\n",
        "            case _ if s in prop_helix:\n",
        "                predict.append(\"H\")\n",
        "            case _ if s in prop_beta:\n",
        "                predict.append(\"B\")\n",
        "            case _:\n",
        "                predict.append(\"L\")\n",
        "\n",
        "    return \"\".join(predict) # list to string"
      ],
      "metadata": {
        "id": "EvbtEKUT7wui",
        "outputId": "7d5c6e5d-0a68-474e-bcc2-78e851a5f7e6",
        "colab": {
          "base_uri": "https://localhost:8080/"
        }
      },
      "execution_count": 1,
      "outputs": [
        {
          "output_type": "stream",
          "name": "stdout",
          "text": [
            "Secuencia de entrada:\n",
            "MVKVYAPASSANMSVGFDVLGAAVTPVDGALLGDVVTVEAAETFSLNNLGQKL\n",
            "\n",
            "Predicción de estructura secundaria:\n",
            "HBHBBHLHLLHLHLBLBLBHLHHBBLBLLHHHLLBBBBHHHHBBLHLLHLHHH\n"
          ]
        }
      ]
    }
  ],
  "metadata": {
    "colab": {
      "name": "Te damos la bienvenida a Colab",
      "toc_visible": true,
      "provenance": []
    },
    "kernelspec": {
      "display_name": "Python 3",
      "name": "python3"
    }
  },
  "nbformat": 4,
  "nbformat_minor": 0
}