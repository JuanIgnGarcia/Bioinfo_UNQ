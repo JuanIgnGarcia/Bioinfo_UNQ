{
  "cells": [
    {
      "cell_type": "code",
      "source": [
        "import re\n",
        "import requests\n",
        "\n",
        "def get_fasta_sequence(id):\n",
        "    url = f\"http://www.uniprot.org/uniprot/{id}.fasta\"\n",
        "    response = requests.get(url)\n",
        "\n",
        "    fasta = response.text.splitlines()\n",
        "    sequence = \"\".join(fasta[1:]) # list to str and delete '>'\n",
        "    return sequence\n",
        "\n",
        "def find_nglico_motif(sequence):\n",
        "    motif = re.compile(r'N[^P][ST][^P]')  # N-glicosilación\n",
        "    return [m.start() + 1 for m in motif.finditer(sequence)]\n",
        "\n",
        "def search_in_proteins(uniprot_ids):\n",
        "    results = {}\n",
        "    for id in uniprot_ids:\n",
        "        seq = get_fasta_sequence(id)\n",
        "        positions = find_nglico_motif(seq) # search motif\n",
        "        if positions:\n",
        "            results[id] = positions\n",
        "    return results"
      ],
      "metadata": {
        "id": "NIbf26GUk_Pq"
      },
      "execution_count": 14,
      "outputs": []
    }
  ],
  "metadata": {
    "colab": {
      "name": "Te damos la bienvenida a Colab",
      "toc_visible": true,
      "provenance": []
    },
    "kernelspec": {
      "display_name": "Python 3",
      "name": "python3"
    }
  },
  "nbformat": 4,
  "nbformat_minor": 0
}